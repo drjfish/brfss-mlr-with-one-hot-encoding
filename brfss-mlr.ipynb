{
 "cells": [
  {
   "cell_type": "markdown",
   "metadata": {},
   "source": [
    "This notebook was created as a compilation of the coding project described in detail at https://dataforpublichealth.com/post-details/mental-health-mlr-one-hot-encoding-brfss. As described in that post, the base data is available at https://dataforpublichealth.com/post-details/wrangling-brfss-2011-2023."
   ]
  },
  {
   "cell_type": "code",
   "execution_count": 91,
   "metadata": {},
   "outputs": [],
   "source": [
    "# Load libraries for entire project\n",
    "import numpy as np\n",
    "import pandas as pd\n",
    "import matplotlib.pyplot as plt\n",
    "from scipy.stats import chi2_contingency\n",
    "from scipy.stats import f_oneway\n",
    "import statsmodels.api as sm\n",
    "from sklearn.model_selection import train_test_split\n",
    "from sklearn.metrics import accuracy_score\n",
    "from sklearn.metrics import mean_squared_error, r2_score"
   ]
  },
  {
   "cell_type": "code",
   "execution_count": 111,
   "metadata": {},
   "outputs": [],
   "source": [
    "# Load data (available at https://dataforpublichealth.com/post-details/wrangling-brfss-2011-2023)\n",
    "data = pd.read_csv('data/2023_350.csv', low_memory=False)"
   ]
  },
  {
   "cell_type": "code",
   "execution_count": 112,
   "metadata": {},
   "outputs": [],
   "source": [
    "# Exclude rows of dependent variable (MENTHLTH) with missing values, 99, and 77\n",
    "data = data[data['MENTHLTH'] != '77']\n",
    "data = data[data['MENTHLTH'] != '99']\n",
    "data = data.dropna(subset=['MENTHLTH'])"
   ]
  },
  {
   "cell_type": "code",
   "execution_count": 113,
   "metadata": {},
   "outputs": [
    {
     "name": "stderr",
     "output_type": "stream",
     "text": [
      "C:\\Users\\unkno\\AppData\\Local\\Temp\\ipykernel_17844\\397828159.py:2: FutureWarning: Downcasting behavior in `replace` is deprecated and will be removed in a future version. To retain the old behavior, explicitly call `result.infer_objects(copy=False)`. To opt-in to the future behavior, set `pd.set_option('future.no_silent_downcasting', True)`\n",
      "  data.replace(r'^\\s*$', np.nan, regex=True, inplace=True)\n"
     ]
    },
    {
     "name": "stdout",
     "output_type": "stream",
     "text": [
      "          Missing Values  Percentage\n",
      "NUMBURN3          425218  100.000000\n",
      "WKDAYOUT          425218  100.000000\n",
      "INDORTAN          425218  100.000000\n",
      "SUNPRTCT          425218  100.000000\n",
      "WKENDOUT          425218  100.000000\n",
      "...                  ...         ...\n",
      "ADDEPEV3               3    0.000706\n",
      "CVDINFR4               3    0.000706\n",
      "CHECKUP1               2    0.000470\n",
      "MEDCOST1               2    0.000470\n",
      "EXERANY2               2    0.000470\n",
      "\n",
      "[287 rows x 2 columns]\n"
     ]
    }
   ],
   "source": [
    "# Replace empty strings, spaces, or other patterns with NaN\n",
    "data.replace(r'^\\s*$', np.nan, regex=True, inplace=True)\n",
    "\n",
    "# Count missing values per column\n",
    "missing_summary = data.isnull().sum().sort_values(ascending=False)\n",
    "missing_summary = missing_summary[missing_summary > 0]  # Only show columns with missing values\n",
    "missing_summary = pd.DataFrame({'Missing Values': missing_summary, \n",
    "                                'Percentage': (missing_summary / len(data)) * 100})\n",
    "print(missing_summary)"
   ]
  },
  {
   "cell_type": "code",
   "execution_count": 114,
   "metadata": {},
   "outputs": [
    {
     "data": {
      "image/png": "[encoded data removed]",
      "text/plain": [
       "<Figure size 1500x500 with 1 Axes>"
      ]
     },
     "metadata": {},
     "output_type": "display_data"
    }
   ],
   "source": [
    "# Count missing data per column and plot\n",
    "missing_summary.plot(kind='bar', figsize=(15, 5), legend=False)\n",
    "plt.title(\"Missing Data by Columns\")\n",
    "plt.ylabel(\"Count of Missing Values\")\n",
    "plt.xticks([])\n",
    "plt.show()"
   ]
  },
  {
   "cell_type": "code",
   "execution_count": 115,
   "metadata": {},
   "outputs": [
    {
     "name": "stdout",
     "output_type": "stream",
     "text": [
      "Original shape: (425218, 350)\n",
      "Filtered shape (after excluding >25% missing): (425218, 139)\n"
     ]
    }
   ],
   "source": [
    "## Set a threshold for allowable missing values and exclude columns \n",
    "## with more than the threshold\n",
    "\n",
    "# Set the threshold percentage\n",
    "threshold = 25 / 100  # 25% as a fraction\n",
    "\n",
    "# Calculate the percentage of missing values per column\n",
    "missing_percentage = data.isnull().mean()\n",
    "\n",
    "# Filter columns: Keep only those with less than or equal to 25% missing data\n",
    "columns_to_keep = missing_percentage[missing_percentage <= threshold].index\n",
    "\n",
    "# Create a new DataFrame with the filtered columns\n",
    "data_filtered = data[columns_to_keep]\n",
    "\n",
    "# Output\n",
    "print(f\"Original shape: {data.shape}\")\n",
    "print(f\"Filtered shape (after excluding >25% missing): {data_filtered.shape}\")\n"
   ]
  },
  {
   "cell_type": "code",
   "execution_count": 116,
   "metadata": {},
   "outputs": [
    {
     "name": "stdout",
     "output_type": "stream",
     "text": [
      "Shape after dropping non-informative columns: (425218, 110)\n"
     ]
    }
   ],
   "source": [
    "# Drop non-informative columns\n",
    "data_filtered = data_filtered.drop(['FMONTH', 'IDATE', 'IMONTH', 'IDAY', 'IYEAR', 'DISPCODE', \n",
    "                                    'SEQNO', 'x_PSU', 'SAFETIME', 'CTELNUM1', 'CELLFON5', 'CADULT1', \n",
    "                                    'CELLSEX2', 'CSTATE1', 'LANDLINE', 'x_STSTR', 'x_STRWT', \n",
    "                                    'x_WT2RAKE', 'x_LLCPWT2', 'x_LLCPWT', 'QSTVER', 'QSTLANG',\n",
    "                                    'x_RAWRAKE', 'x_DUALUSE', ], axis=1)\n",
    "\n",
    "# Drop height/weight columns (used to calculate BMI, which is retained)\n",
    "data_filtered = data_filtered.drop(['WEIGHT2', 'HEIGHT3', 'HTIN4', 'WTKG3'], axis=1)\n",
    "\n",
    "# Drop ALCDAY4 (used to calculate other retained variables on alcohol consumption)\n",
    "data_filtered = data_filtered.drop(['ALCDAY4'], axis=1)\n",
    "\n",
    "# Output\n",
    "print(f\"Shape after dropping non-informative columns: {data_filtered.shape}\")"
   ]
  },
  {
   "cell_type": "code",
   "execution_count": 117,
   "metadata": {},
   "outputs": [
    {
     "name": "stdout",
     "output_type": "stream",
     "text": [
      "Shape after dropping rows with missing values: (189279, 110)\n"
     ]
    }
   ],
   "source": [
    "# Drop all rows with missing values\n",
    "data_filtered = data_filtered.dropna()\n",
    "\n",
    "print(f\"Shape after dropping rows with missing values: {data_filtered.shape}\")"
   ]
  },
  {
   "cell_type": "code",
   "execution_count": 118,
   "metadata": {},
   "outputs": [
    {
     "name": "stdout",
     "output_type": "stream",
     "text": [
      "Shape after removing records: (182061, 110)\n"
     ]
    }
   ],
   "source": [
    "# Cast all columns as numeric\n",
    "data_filtered = data_filtered.apply(pd.to_numeric, errors='coerce')\n",
    "\n",
    "## Recode 88 in MENTHLTH, PHYSHLTH, POORHLTH, CHILDREN, & SMOKE100 to 0\n",
    "data_filtered['MENTHLTH'] = data_filtered['MENTHLTH'].replace(88, 0)\n",
    "data_filtered['PHYSHLTH'] = data_filtered['PHYSHLTH'].replace(88, 0)\n",
    "data_filtered['CHILDREN'] = data_filtered['CHILDREN'].replace(88, 0)\n",
    "data_filtered['SMOKE100'] = data_filtered['SMOKE100'].replace(88, 0)\n",
    "\n",
    "# Remove records where PHYSHLTH, POORHLTH, HHADULT, CHILDREN, or SMOKE100 is 77 or 99\n",
    "data_filtered = data_filtered[~data_filtered['PHYSHLTH'].isin([77, 99])]\n",
    "data_filtered = data_filtered[~data_filtered['HHADULT'].isin([77, 99])]\n",
    "data_filtered = data_filtered[~data_filtered['CHILDREN'].isin([77, 99])]\n",
    "data_filtered = data_filtered[~data_filtered['SMOKE100'].isin([77, 99])]\n",
    "\n",
    "# Remove records where MAXVO21_, FC601_, or x_DRNKWK2 is 99900\n",
    "data_filtered = data_filtered[~data_filtered['MAXVO21_'].isin([99900])]\n",
    "data_filtered = data_filtered[~data_filtered['FC601_'].isin([99900])]\n",
    "data_filtered = data_filtered[~data_filtered['x_DRNKWK2'].isin([99900])]\n",
    "\n",
    "# Remove records where STRFREQ_ is '99000'\n",
    "data_filtered = data_filtered[~data_filtered['STRFREQ_'].isin([99000])]\n",
    "\n",
    "# Remove records where DROCDY4_ is 900\n",
    "data_filtered = data_filtered[~data_filtered['DROCDY4_'].isin([900])]\n",
    "\n",
    "# Print the shape of the data after removing records\n",
    "print(f\"Shape after removing records: {data_filtered.shape}\")"
   ]
  },
  {
   "cell_type": "code",
   "execution_count": 119,
   "metadata": {},
   "outputs": [
    {
     "name": "stdout",
     "output_type": "stream",
     "text": [
      "MENTHLTH: 0 - 30\n",
      "PHYSHLTH: 0 - 30\n",
      "CHILDREN: 0 - 81\n",
      "SMOKE100: 1 - 9\n",
      "HHADULT: 1 - 52\n",
      "MAXVO21_: 555 - 5010\n",
      "FC601_: 95 - 859\n",
      "x_DRNKWK2: 0 - 53200\n",
      "STRFREQ_: 0 - 95000\n",
      "DROCDY4_: 0 - 100\n"
     ]
    }
   ],
   "source": [
    "## Confirm that the values have been removed\n",
    "\n",
    "# Print lowest and highest values in MENTHLTH, PHYSHLTH, CHILDREN, SMOKE100, HHADULT, MAXVO21_, FC601_, x_DRNKWK2, STRFREQ_, DROCDY4_\n",
    "print(f\"MENTHLTH: {data_filtered['MENTHLTH'].min()} - {data_filtered['MENTHLTH'].max()}\")\n",
    "print(f\"PHYSHLTH: {data_filtered['PHYSHLTH'].min()} - {data_filtered['PHYSHLTH'].max()}\")\n",
    "print(f\"CHILDREN: {data_filtered['CHILDREN'].min()} - {data_filtered['CHILDREN'].max()}\")\n",
    "print(f\"SMOKE100: {data_filtered['SMOKE100'].min()} - {data_filtered['SMOKE100'].max()}\")\n",
    "print(f\"HHADULT: {data_filtered['HHADULT'].min()} - {data_filtered['HHADULT'].max()}\")\n",
    "print(f\"MAXVO21_: {data_filtered['MAXVO21_'].min()} - {data_filtered['MAXVO21_'].max()}\")\n",
    "print(f\"FC601_: {data_filtered['FC601_'].min()} - {data_filtered['FC601_'].max()}\")\n",
    "print(f\"x_DRNKWK2: {data_filtered['x_DRNKWK2'].min()} - {data_filtered['x_DRNKWK2'].max()}\")\n",
    "print(f\"STRFREQ_: {data_filtered['STRFREQ_'].min()} - {data_filtered['STRFREQ_'].max()}\")\n",
    "print(f\"DROCDY4_: {data_filtered['DROCDY4_'].min()} - {data_filtered['DROCDY4_'].max()}\")"
   ]
  },
  {
   "cell_type": "code",
   "execution_count": 120,
   "metadata": {},
   "outputs": [
    {
     "name": "stdout",
     "output_type": "stream",
     "text": [
      "Columns to drop due to high correlation: ['FC601_']\n"
     ]
    }
   ],
   "source": [
    "# Perform iterative correlation testing to determine which columns to keep\n",
    "\n",
    "# Step 1: Compute correlation matrix for continuous predictors\n",
    "continuous_vars = ['MAXVO21_', 'FC601_', 'x_BMI5', 'DROCDY4_', 'x_DRNKWK2', 'PHYSHLTH', 'CHILDREN', 'HHADULT', 'STRFREQ_']\n",
    "categorical_vars = [col for col in data_filtered.columns if col not in continuous_vars] # For Cramer's V (next)\n",
    "\n",
    "# Remove dependent variable MENTHLTH from list (not categorical, not predictor)\n",
    "categorical_vars.remove('MENTHLTH')\n",
    "\n",
    "corr_matrix = data_filtered[continuous_vars].corr().abs()  # Absolute correlations\n",
    "\n",
    "# Step 2: Remove duplicate correlations (upper triangle)\n",
    "upper_tri = corr_matrix.where(np.triu(np.ones(corr_matrix.shape), k=1).astype(bool))\n",
    "\n",
    "# Step 3: Identify predictors to drop based on threshold\n",
    "threshold = 0.7  # Set correlation threshold to avoid high redundancy\n",
    "to_drop = [column for column in upper_tri.columns if any(upper_tri[column] > threshold)]\n",
    "\n",
    "print(f\"Columns to drop due to high correlation: {to_drop}\")"
   ]
  },
  {
   "cell_type": "code",
   "execution_count": 121,
   "metadata": {},
   "outputs": [
    {
     "name": "stdout",
     "output_type": "stream",
     "text": [
      "Columns before removal: 110\n",
      "Columns after removal: 109\n"
     ]
    }
   ],
   "source": [
    "# Print number of columns before removal\n",
    "print(f\"Columns before removal: {data_filtered.shape[1]}\")\n",
    "\n",
    "# Remove the columns identified above\n",
    "data_filtered = data_filtered.drop(to_drop, axis=1)\n",
    "\n",
    "# Remove dropped variables from lists\n",
    "continuous_vars = [col for col in continuous_vars if col not in to_drop]\n",
    "\n",
    "# Print number of columns after removal\n",
    "print(f\"Columns after removal: {data_filtered.shape[1]}\")"
   ]
  },
  {
   "cell_type": "code",
   "execution_count": 122,
   "metadata": {},
   "outputs": [],
   "source": [
    "# Remove x_MENT14D from data_filtered\n",
    "data_filtered = data_filtered.drop('x_MENT14D', axis=1)\n",
    "\n",
    "# Remove x_MENT14D from categorical_vars\n",
    "categorical_vars = [col for col in categorical_vars if col != 'x_MENT14D']"
   ]
  },
  {
   "cell_type": "code",
   "execution_count": 123,
   "metadata": {},
   "outputs": [
    {
     "name": "stdout",
     "output_type": "stream",
     "text": [
      "Cramér's V Matrix:\n",
      "            x_STATE  PVTRESD3    SEXVAR   GENHLTH  PRIMINS1  PERSDOC3  \\\n",
      "x_STATE    0.000000  0.019688  0.037404  0.034432  0.074340  0.074993   \n",
      "PVTRESD3   0.019688  0.000000  0.001820  0.005247  0.072748  0.028740   \n",
      "SEXVAR     0.037404  0.001820  0.000000  0.023746  0.106490  0.105103   \n",
      "GENHLTH    0.034432  0.005247  0.023746  0.000000  0.085175  0.057694   \n",
      "PRIMINS1   0.074340  0.072748  0.106490  0.085175  0.000000  0.164004   \n",
      "...             ...       ...       ...       ...       ...       ...   \n",
      "x_RFDRHV8  0.039796  0.000000  0.028560  0.019516  0.030376  0.023418   \n",
      "x_AIDTST4  0.096365  0.011520  0.017422  0.040151  0.155930  0.037157   \n",
      "x_RFSEAT2  0.068232  0.006226  0.071492  0.046004  0.047748  0.038755   \n",
      "x_RFSEAT3  0.104403  0.009937  0.087763  0.048683  0.050152  0.045072   \n",
      "x_DRNKDRV  0.105457  0.015801  0.072932  0.108287  0.113024  0.014821   \n",
      "\n",
      "           MEDCOST1  CHECKUP1  EXERANY2  EXRACT12  ...  x_SMOKER3  x_RFSMOK3  \\\n",
      "x_STATE    0.037557  0.038515       NaN  0.040657  ...   0.048211   0.046000   \n",
      "PVTRESD3   0.010924  0.007141       NaN  0.040581  ...   0.026996   0.005894   \n",
      "SEXVAR     0.043115  0.087952       NaN  0.218669  ...   0.075869   0.015407   \n",
      "GENHLTH    0.098121  0.026804       NaN  0.077698  ...   0.085746   0.098467   \n",
      "PRIMINS1   0.158350  0.106031       NaN  0.056346  ...   0.099539   0.104625   \n",
      "...             ...       ...       ...       ...  ...        ...        ...   \n",
      "x_RFDRHV8  0.014252  0.038329       NaN  0.028266  ...   0.122119   0.092883   \n",
      "x_AIDTST4  0.062004  0.017783       NaN  0.043697  ...   0.072461   0.064164   \n",
      "x_RFSEAT2  0.028759  0.037464       NaN  0.024255  ...   0.063710   0.060089   \n",
      "x_RFSEAT3  0.034732  0.045981       NaN  0.030221  ...   0.054137   0.052457   \n",
      "x_DRNKDRV  0.027874  0.031014       NaN  0.062911  ...   0.040505   0.023060   \n",
      "\n",
      "           x_CURECI2  DRNKANY6  x_RFBING6  x_RFDRHV8  x_AIDTST4  x_RFSEAT2  \\\n",
      "x_STATE     0.033622  0.146086   0.046137   0.039796   0.096365   0.068232   \n",
      "PVTRESD3    0.013572  0.016032   0.006794   0.000000   0.011520   0.006226   \n",
      "SEXVAR      0.022018  0.057100   0.086503   0.028560   0.017422   0.071492   \n",
      "GENHLTH     0.040636  0.151972   0.031019   0.019516   0.040151   0.046004   \n",
      "PRIMINS1    0.083877  0.157479   0.112114   0.030376   0.155930   0.047748   \n",
      "...              ...       ...        ...        ...        ...        ...   \n",
      "x_RFDRHV8   0.066530  0.209800   0.431780   0.000000   0.029983   0.028392   \n",
      "x_AIDTST4   0.060008  0.037638   0.045796   0.029983   0.000000   0.004142   \n",
      "x_RFSEAT2   0.036536  0.022816   0.029030   0.028392   0.004142   0.000000   \n",
      "x_RFSEAT3   0.043199  0.010938   0.047455   0.031265   0.000000   0.819273   \n",
      "x_DRNKDRV   0.033082  0.996931   0.279592   0.265659   0.027926   0.034806   \n",
      "\n",
      "           x_RFSEAT3  x_DRNKDRV  \n",
      "x_STATE     0.104403   0.105457  \n",
      "PVTRESD3    0.009937   0.015801  \n",
      "SEXVAR      0.087763   0.072932  \n",
      "GENHLTH     0.048683   0.108287  \n",
      "PRIMINS1    0.050152   0.113024  \n",
      "...              ...        ...  \n",
      "x_RFDRHV8   0.031265   0.265659  \n",
      "x_AIDTST4   0.000000   0.027926  \n",
      "x_RFSEAT2   0.819273   0.034806  \n",
      "x_RFSEAT3   0.000000   0.038486  \n",
      "x_DRNKDRV   0.038486   0.000000  \n",
      "\n",
      "[99 rows x 99 columns]\n",
      "Categorical variables to drop (V > 0.7): ['SEXVAR', 'GENHLTH', 'PRIMINS1', 'STRENGTH', 'BPHIGH6', 'CHOLCHK3', 'TOLDHI3', 'CVDINFR4', 'CVDCRHD4', 'ASTHMA3', 'HAVARTH4', 'EDUCA', 'EMPLOY1', 'INCOME3', 'SMOKE100', 'ECIGNOW2', 'HIVTST7', 'SEATBELT', 'x_IMPRACE', 'x_RFHLTH', 'x_HLTHPL1', 'x_HCVU653', 'PAMISS3_', 'x_PACAT3', 'x_PAINDX3', 'x_PA150R4', 'x_PA300R4', 'x_PA30023', 'x_PASTRNG', 'x_PAREC3', 'x_PASTAE3', 'x_RFHYPE6', 'x_CHOLCH3', 'x_RFCHOL3', 'x_MICHD', 'x_LTASTH1', 'x_CASTHM1', 'x_ASTHMS1', 'x_DRDXAR2', 'x_MRACE1', 'x_HISPANC', 'x_RACE', 'x_RACEG21', 'x_RACEGR3', 'x_RACEPRV', 'x_SEX', 'x_AGEG5YR', 'x_AGE65YR', 'x_AGE80', 'x_AGE_G', 'HTM4', 'x_BMI5CAT', 'x_RFBMI5', 'x_EDUCAG', 'x_INCOMG1', 'x_SMOKER3', 'x_RFSMOK3', 'x_CURECI2', 'DRNKANY6', 'x_AIDTST4', 'x_RFSEAT2', 'x_RFSEAT3', 'x_DRNKDRV']\n"
     ]
    }
   ],
   "source": [
    "\n",
    "# Function to compute Cramér's V\n",
    "def cramers_v(x, y):\n",
    "    \"\"\"Calculate Cramér's V for two categorical variables.\"\"\"\n",
    "    confusion_matrix = pd.crosstab(x, y)  # Create a contingency table\n",
    "    chi2, _, _, _ = chi2_contingency(confusion_matrix)  # Perform Chi-Square test\n",
    "    n = confusion_matrix.sum().sum()  # Total number of observations\n",
    "    phi2 = chi2 / n  # Compute phi-squared\n",
    "    r, k = confusion_matrix.shape  # Number of rows and columns in the table\n",
    "    phi2_corr = max(0, phi2 - ((k-1)*(r-1)) / (n-1))  # Bias correction\n",
    "    r_corr = max(1, r - ((r-1)**2) / (n-1))  # Ensure corrected rows > 0\n",
    "    k_corr = max(1, k - ((k-1)**2) / (n-1))  # Ensure corrected columns > 0\n",
    "    denominator = min((k_corr - 1), (r_corr - 1))\n",
    "    if denominator <= 0:  # Avoid division by zero\n",
    "        return np.nan\n",
    "    return np.sqrt(phi2_corr / denominator)  # Return Cramér's V\n",
    "\n",
    "# Create a matrix to store Cramér's V values\n",
    "cramers_matrix = pd.DataFrame(index=categorical_vars, columns=categorical_vars)\n",
    "\n",
    "# Compute Cramér's V for all pairs of categorical variables\n",
    "for col1 in categorical_vars:\n",
    "    for col2 in categorical_vars:\n",
    "        if col1 == col2:\n",
    "            cramers_matrix.loc[col1, col2] = 0.0  # Self-correlation set to 0 for comparison\n",
    "        else:\n",
    "            cramers_matrix.loc[col1, col2] = cramers_v(data_filtered[col1], data_filtered[col2])\n",
    "\n",
    "# Convert matrix values to floats for further processing\n",
    "cramers_matrix = cramers_matrix.astype(float)\n",
    "\n",
    "# Print Cramér's V matrix\n",
    "print(\"Cramér's V Matrix:\")\n",
    "print(cramers_matrix)\n",
    "\n",
    "# Identify variables with high association (e.g., V > 0.8)\n",
    "threshold = 0.7  # Set threshold for high association\n",
    "to_drop_cat = []\n",
    "\n",
    "# Iterate over columns and ignore self-correlation (diagonal values)\n",
    "for col in cramers_matrix.columns:\n",
    "    high_association = cramers_matrix[col][cramers_matrix.index != col] > threshold  # Exclude diagonal\n",
    "    if any(high_association):\n",
    "        to_drop_cat.append(col)\n",
    "\n",
    "print(f\"Categorical variables to drop (V > {threshold}): {to_drop_cat}\")\n"
   ]
  },
  {
   "cell_type": "code",
   "execution_count": 124,
   "metadata": {},
   "outputs": [
    {
     "name": "stdout",
     "output_type": "stream",
     "text": [
      "Shape after removing columns: (182061, 45)\n"
     ]
    }
   ],
   "source": [
    "# Remove the categorical variables identified above with Cramer's V\n",
    "data_filtered = data_filtered.drop(to_drop_cat, axis=1)\n",
    "\n",
    "# Remove to_drop_cat from categorical_vars\n",
    "categorical_vars = [col for col in categorical_vars if col not in to_drop_cat]\n",
    "\n",
    "# print the shape of the data after removing columns\n",
    "print(f\"Shape after removing columns: {data_filtered.shape}\")"
   ]
  },
  {
   "cell_type": "code",
   "execution_count": null,
   "metadata": {},
   "outputs": [
    {
     "name": "stdout",
     "output_type": "stream",
     "text": [
      "Index(['x_STATE', 'PVTRESD3', 'HHADULT', 'PHYSHLTH', 'MENTHLTH', 'PERSDOC3',\n",
      "       'MEDCOST1', 'CHECKUP1', 'EXERANY2', 'EXRACT12', 'CHOLMED3', 'CVDSTRK3',\n",
      "       'CHCSCNC1', 'CHCOCNC1', 'CHCCOPD3', 'ADDEPEV3', 'CHCKDNY2', 'DIABETE4',\n",
      "       'MARITAL', 'RENTHOM1', 'CPDEMO1C', 'VETERAN3', 'CHILDREN', 'DEAF',\n",
      "       'BLIND', 'DECIDE', 'DIFFWALK', 'DIFFDRES', 'DIFFALON', 'USENOW3',\n",
      "       'FLUSHOT7', 'PNEUVAC4', 'COVIDPO1', 'x_METSTAT', 'x_URBSTAT',\n",
      "       'x_PHYS14D', 'x_TOTINDA', 'MAXVO21_', 'STRFREQ_', 'x_BMI5', 'x_CHLDCNT',\n",
      "       'DROCDY4_', 'x_RFBING6', 'x_DRNKWK2', 'x_RFDRHV8'],\n",
      "      dtype='object')\n"
     ]
    },
    {
     "name": "stderr",
     "output_type": "stream",
     "text": [
      "C:\\Users\\unkno\\AppData\\Local\\Temp\\ipykernel_17844\\710325749.py:5: FutureWarning: errors='ignore' is deprecated and will raise in a future version. Use to_numeric without passing `errors` and catch exceptions explicitly instead\n",
      "  data_filtered = data_filtered.apply(pd.to_numeric, errors='ignore')\n"
     ]
    }
   ],
   "source": [
    "# Print columns\n",
    "print(data_filtered.columns)"
   ]
  },
  {
   "cell_type": "code",
   "execution_count": 125,
   "metadata": {},
   "outputs": [
    {
     "name": "stdout",
     "output_type": "stream",
     "text": [
      "Selected Continuous Variables: ['PHYSHLTH']\n"
     ]
    }
   ],
   "source": [
    "# Quick Bivariate Analyses to further narrow down predictors\n",
    "# Target column in data_filtered\n",
    "target_col = 'MENTHLTH'\n",
    "\n",
    "# Compute correlations for continuous variables\n",
    "correlations = {}\n",
    "for col in continuous_vars:\n",
    "    try:\n",
    "        # Compute correlation between the continuous variable and the target\n",
    "        correlations[col] = data_filtered[target_col].corr(data_filtered[col])\n",
    "    except Exception as e:\n",
    "        print(f\"Error with variable {col}: {e}\")\n",
    "\n",
    "# Filter predictors based on correlation threshold\n",
    "threshold = 0.2\n",
    "selected_continuous = [col for col, corr in correlations.items() if abs(corr) > threshold]\n",
    "\n",
    "print(\"Selected Continuous Variables:\", selected_continuous)\n"
   ]
  },
  {
   "cell_type": "code",
   "execution_count": 126,
   "metadata": {},
   "outputs": [
    {
     "name": "stdout",
     "output_type": "stream",
     "text": [
      "Selected Categorical Variables: ['x_STATE', 'PVTRESD3', 'PERSDOC3', 'MEDCOST1', 'CHECKUP1', 'EXRACT12', 'CHOLMED3', 'CVDSTRK3', 'CHCSCNC1', 'CHCOCNC1', 'CHCCOPD3', 'ADDEPEV3', 'CHCKDNY2', 'DIABETE4', 'MARITAL', 'RENTHOM1', 'CPDEMO1C', 'VETERAN3', 'DEAF', 'BLIND', 'DECIDE', 'DIFFWALK', 'DIFFDRES', 'DIFFALON', 'USENOW3', 'FLUSHOT7', 'PNEUVAC4', 'COVIDPO1', 'x_METSTAT', 'x_URBSTAT', 'x_PHYS14D', 'x_CHLDCNT', 'x_RFBING6', 'x_RFDRHV8']\n"
     ]
    }
   ],
   "source": [
    "# Target column in data_filtered\n",
    "target_col = 'MENTHLTH'\n",
    "\n",
    "# Perform ANOVA for each categorical variable\n",
    "anova_results = {}\n",
    "for col in categorical_vars:  # Ensure categorical_vars contains original column names\n",
    "    try:\n",
    "        # Group the target variable (MENTHLTH) by each level of the categorical variable\n",
    "        groups = [\n",
    "            data_filtered.loc[data_filtered[col] == level, target_col]  # Subset target by category levels\n",
    "            for level in data_filtered[col].dropna().unique()\n",
    "        ]\n",
    "        if len(groups) > 1:  # Ensure at least two groups exist\n",
    "            anova_results[col] = f_oneway(*groups).pvalue\n",
    "    except KeyError:\n",
    "        print(f\"Variable {col} is not in data_filtered and was skipped.\")\n",
    "    except Exception as e:\n",
    "        print(f\"Error with variable {col}: {e}\")\n",
    "\n",
    "# Filter categorical predictors based on p-value threshold\n",
    "pval_threshold = 0.05\n",
    "selected_categorical = [col for col, pval in anova_results.items() if pval < pval_threshold]\n",
    "\n",
    "print(\"Selected Categorical Variables:\", selected_categorical)\n"
   ]
  },
  {
   "cell_type": "code",
   "execution_count": 128,
   "metadata": {},
   "outputs": [
    {
     "name": "stdout",
     "output_type": "stream",
     "text": [
      "Number of selected categorical variables: 34\n"
     ]
    }
   ],
   "source": [
    "# Print number of selected_categorical variables\n",
    "print(f\"Number of selected categorical variables: {len(selected_categorical)}\")"
   ]
  },
  {
   "cell_type": "code",
   "execution_count": 129,
   "metadata": {},
   "outputs": [],
   "source": [
    "# Combine selected predictors\n",
    "selected_predictors = selected_continuous + selected_categorical\n",
    "\n",
    "# Ensure all selected predictors exist in data_filtered\n",
    "selected_predictors = [col for col in selected_predictors if col in data_filtered.columns]\n",
    "\n",
    "# Add the target variable to the list\n",
    "selected_predictors.append(target_col)\n",
    "\n",
    "# Create the reduced dataset\n",
    "data_prepared = data_filtered[selected_predictors]"
   ]
  },
  {
   "cell_type": "code",
   "execution_count": 131,
   "metadata": {},
   "outputs": [
    {
     "name": "stdout",
     "output_type": "stream",
     "text": [
      "Shape of the reduced dataset: (182061, 36)\n"
     ]
    }
   ],
   "source": [
    "# Print the shape of the reduced dataset\n",
    "print(f\"Shape of the reduced dataset: {data_prepared.shape}\")"
   ]
  },
  {
   "cell_type": "code",
   "execution_count": 132,
   "metadata": {},
   "outputs": [
    {
     "name": "stdout",
     "output_type": "stream",
     "text": [
      "Final Predictor Variables:\n",
      "     PHYSHLTH  x_STATE_2  x_STATE_4  x_STATE_5  x_STATE_6  x_STATE_8  \\\n",
      "961         0          0          0          0          0          0   \n",
      "962         0          0          0          0          0          0   \n",
      "963         1          0          0          0          0          0   \n",
      "966         5          0          0          0          0          0   \n",
      "967         4          0          0          0          0          0   \n",
      "\n",
      "     x_STATE_9  x_STATE_10  x_STATE_11  x_STATE_12  ...  x_PHYS14D_2  \\\n",
      "961          0           0           0           0  ...            0   \n",
      "962          0           0           0           0  ...            0   \n",
      "963          0           0           0           0  ...            1   \n",
      "966          0           0           0           0  ...            1   \n",
      "967          0           0           0           0  ...            1   \n",
      "\n",
      "     x_PHYS14D_3  x_CHLDCNT_2  x_CHLDCNT_3  x_CHLDCNT_4  x_CHLDCNT_5  \\\n",
      "961            0            0            0            0            0   \n",
      "962            0            0            0            0            0   \n",
      "963            0            0            0            0            0   \n",
      "966            0            0            0            0            0   \n",
      "967            0            0            0            0            0   \n",
      "\n",
      "     x_CHLDCNT_6  x_RFBING6_2  x_RFBING6_9  x_RFDRHV8_2  \n",
      "961            0            0            0            0  \n",
      "962            0            0            0            0  \n",
      "963            0            0            0            0  \n",
      "966            0            0            0            0  \n",
      "967            0            0            0            0  \n",
      "\n",
      "[5 rows x 165 columns]\n",
      "Shape: (182061, 165)\n"
     ]
    }
   ],
   "source": [
    "## One-Hot Encoding\n",
    "\n",
    "# Step 1: Break data into target and predictors\n",
    "y = data_prepared['MENTHLTH']\n",
    "X = data_prepared.drop(columns=['MENTHLTH'])\n",
    "\n",
    "# Step 2: One-Hot Encode Remaining Categorical Variables\n",
    "X_encoded = pd.get_dummies(X, columns=selected_categorical, drop_first=True)\n",
    "\n",
    "# Step 3: Convert all encoded columns to integers (0/1)\n",
    "X_encoded = X_encoded.astype(int)\n",
    "\n",
    "# Step 4: Combine Continuous and Encoded Variables\n",
    "# Ensure all continuous variables remain intact\n",
    "X_final = X_encoded[selected_continuous].join(X_encoded.drop(columns=selected_continuous, errors='ignore'))\n",
    "\n",
    "# Step 5: Verify Final Data\n",
    "print(\"Final Predictor Variables:\")\n",
    "print(X_final.head())\n",
    "print(\"Shape:\", X_final.shape)\n"
   ]
  },
  {
   "cell_type": "code",
   "execution_count": 133,
   "metadata": {},
   "outputs": [
    {
     "name": "stdout",
     "output_type": "stream",
     "text": [
      "Adding MEDCOST1_2 with p-value 0.0\n",
      "Adding RENTHOM1_2 with p-value 0.0\n",
      "Adding ADDEPEV3_2 with p-value 0.0\n",
      "Adding x_PHYS14D_3 with p-value 0.0\n",
      "Adding DECIDE_2 with p-value 0.0\n",
      "Adding PHYSHLTH with p-value 1.9806015710709197e-288\n",
      "Adding DIFFALON_2 with p-value 6.67802522511354e-184\n",
      "Adding CHOLMED3_2 with p-value 6.281940620237544e-173\n",
      "Adding MARITAL_5 with p-value 7.8937504939008e-137\n",
      "Adding x_RFBING6_2 with p-value 3.286999987929458e-80\n",
      "Adding x_PHYS14D_2 with p-value 3.91700052715059e-45\n",
      "Adding MARITAL_6 with p-value 7.887667923004102e-32\n",
      "Adding x_CHLDCNT_3 with p-value 3.325636429713605e-33\n",
      "Adding x_CHLDCNT_2 with p-value 2.875501023207889e-37\n",
      "Adding RENTHOM1_3 with p-value 2.0201546947404618e-24\n",
      "Adding x_RFDRHV8_2 with p-value 2.715866407117292e-23\n",
      "Adding DIFFWALK_2 with p-value 6.046174961076206e-21\n",
      "Adding MARITAL_4 with p-value 8.15688610235675e-18\n",
      "Adding FLUSHOT7_2 with p-value 1.0668585795251601e-16\n",
      "Adding DECIDE_7 with p-value 3.605939686704826e-15\n",
      "Adding CHCSCNC1_2 with p-value 1.848950639580732e-14\n",
      "Adding x_CHLDCNT_5 with p-value 1.005216144641422e-12\n",
      "Adding x_CHLDCNT_4 with p-value 1.8279124510548744e-12\n",
      "Adding MARITAL_2 with p-value 2.1975445067696717e-13\n",
      "Adding CHECKUP1_3 with p-value 2.8448536813235426e-12\n",
      "Adding COVIDPO1_2 with p-value 2.8198995073664788e-11\n",
      "Adding CHECKUP1_4 with p-value 4.971617117985556e-12\n",
      "Adding PNEUVAC4_7 with p-value 4.840791964161781e-07\n",
      "Adding PNEUVAC4_2 with p-value 6.846054763021289e-08\n",
      "Adding DECIDE_9 with p-value 8.774871164256639e-07\n",
      "Adding ADDEPEV3_7 with p-value 3.4911075210821003e-06\n",
      "Adding MARITAL_3 with p-value 3.888536126501514e-06\n",
      "Adding PVTRESD3_2 with p-value 5.293295274162271e-06\n",
      "Adding x_CHLDCNT_6 with p-value 1.216321636934818e-05\n",
      "Adding CHECKUP1_2 with p-value 1.8733485593363996e-05\n",
      "Adding x_METSTAT_2 with p-value 3.359902138477353e-05\n",
      "Adding x_STATE_27 with p-value 4.288051605497049e-05\n",
      "Adding PERSDOC3_2 with p-value 0.0001336731997453708\n",
      "Adding CHCKDNY2_2 with p-value 7.304344781873501e-05\n",
      "Adding x_STATE_38 with p-value 0.00018189157059000759\n",
      "Adding MARITAL_9 with p-value 0.00021502958911490255\n",
      "Adding EXRACT12_11 with p-value 0.00042790088393279224\n",
      "Adding x_STATE_11 with p-value 0.0005799497858057874\n",
      "Adding MEDCOST1_7 with p-value 0.0007396603888907574\n",
      "Adding DIABETE4_2 with p-value 0.0008807464371965276\n",
      "Adding x_STATE_46 with p-value 0.001145265146073564\n",
      "Adding VETERAN3_2 with p-value 0.0030667943814321227\n",
      "Adding DIFFALON_7 with p-value 0.004274743272395371\n",
      "Adding EXRACT12_4 with p-value 0.005309155024903648\n",
      "Adding CPDEMO1C_3 with p-value 0.005874903388100867\n",
      "Adding EXRACT12_2 with p-value 0.007866395930311857\n",
      "Adding x_STATE_4 with p-value 0.010207595937600572\n",
      "Adding ADDEPEV3_9 with p-value 0.010233133921399186\n",
      "Adding CHCOCNC1_2 with p-value 0.012793463417040803\n",
      "Adding CHCCOPD3_2 with p-value 0.011527941590570084\n",
      "Adding USENOW3_9 with p-value 0.013922429086809684\n",
      "Adding EXRACT12_3 with p-value 0.01827272422619433\n",
      "Adding EXRACT12_5 with p-value 0.016428501657516855\n",
      "Adding x_STATE_54 with p-value 0.018979202834532083\n",
      "Adding DIFFALON_9 with p-value 0.020388622420832545\n",
      "Adding CHCKDNY2_7 with p-value 0.02915317515376381\n",
      "Adding x_STATE_19 with p-value 0.029785802390442696\n",
      "Adding EXRACT12_77 with p-value 0.035998056514673984\n",
      "Adding x_STATE_45 with p-value 0.04484118488902526\n",
      "Adding x_STATE_56 with p-value 0.04521091307108444\n",
      "Adding CPDEMO1C_4 with p-value 0.04675436585701305\n",
      "Adding CHCSCNC1_9 with p-value 0.048835436472499084\n"
     ]
    }
   ],
   "source": [
    "# Step 1: Split data into training and testing sets\n",
    "X_train, X_test, y_train, y_test = train_test_split(X_final, y, test_size=0.2, random_state=42)\n",
    "\n",
    "# Step 2: Define Stepwise Selection Function\n",
    "def stepwise_selection(X, y, threshold_in=0.05, threshold_out=0.05, verbose=True):\n",
    "    \"\"\"Perform stepwise selection to find the best predictors for the MLR model.\"\"\"\n",
    "    initial_list = []\n",
    "    included = list(initial_list)\n",
    "    while True:\n",
    "        changed = False\n",
    "        \n",
    "        # Forward step: Add variable with the lowest p-value\n",
    "        excluded = list(set(X.columns) - set(included))\n",
    "        new_pval = pd.Series(index=excluded, dtype=float)\n",
    "        for new_column in excluded:\n",
    "            try:\n",
    "                model = sm.OLS(y, sm.add_constant(pd.DataFrame(X[included + [new_column]]))).fit()\n",
    "                new_pval[new_column] = model.pvalues[new_column]\n",
    "            except Exception as e:\n",
    "                print(f\"Error with variable {new_column}: {e}\")\n",
    "                new_pval[new_column] = np.nan\n",
    "        best_pval = new_pval.min()\n",
    "        if best_pval < threshold_in:\n",
    "            best_feature = new_pval.idxmin()\n",
    "            included.append(best_feature)\n",
    "            changed = True\n",
    "            if verbose:\n",
    "                print(f\"Adding {best_feature} with p-value {best_pval}\")\n",
    "\n",
    "        # Backward step: Remove variable with the highest p-value\n",
    "        model = sm.OLS(y, sm.add_constant(pd.DataFrame(X[included]))).fit()\n",
    "        pvalues = model.pvalues.iloc[1:]  # Exclude intercept\n",
    "        worst_pval = pvalues.max()\n",
    "        if worst_pval > threshold_out:\n",
    "            worst_feature = pvalues.idxmax()\n",
    "            included.remove(worst_feature)\n",
    "            changed = True\n",
    "            if verbose:\n",
    "                print(f\"Dropping {worst_feature} with p-value {worst_pval}\")\n",
    "\n",
    "        if not changed:\n",
    "            break\n",
    "\n",
    "    return included\n",
    "\n",
    "\n",
    "# Step 3: Run Stepwise Selection\n",
    "selected_features = stepwise_selection(X_train, y_train)\n"
   ]
  },
  {
   "cell_type": "code",
   "execution_count": 134,
   "metadata": {},
   "outputs": [
    {
     "name": "stdout",
     "output_type": "stream",
     "text": [
      "Number of selected features: 67\n"
     ]
    }
   ],
   "source": [
    "# count number of selected features\n",
    "print(f\"Number of selected features: {len(selected_features)}\")\n",
    "\n",
    "# save selected features as a .csv\n",
    "selected_features_df = pd.DataFrame(selected_features, columns=['selected_features'])\n",
    "selected_features_df.to_csv('data/selected_features.csv', index=False)"
   ]
  },
  {
   "cell_type": "code",
   "execution_count": 51,
   "metadata": {},
   "outputs": [
    {
     "name": "stdout",
     "output_type": "stream",
     "text": [
      "Selected Features:\n",
      "['CHOLMED3_2', 'MEDCOST1_2', 'RENTHOM1_2', 'ADDEPEV3_2', 'MAXVO21_', 'PHYSHLTH', 'DECIDE_2', 'x_RFBING6_2', 'PERSDOC3_2', 'VETERAN3_2', 'FLUSHOT7_2', 'COVIDPO1_2', 'USENOW3_3', 'x_METSTAT_2', 'EXRACT12_11', 'PNEUVAC4_7', 'EXRACT12_2', 'MARITAL_6', 'MARITAL_5', 'MARITAL_2', 'x_CHLDCNT_3', 'MARITAL_3', 'x_CHLDCNT_2', 'EXRACT12_10', 'x_STATE_53', 'DIABETE4_2', 'MARITAL_4', 'CHECKUP1_2', 'EXRACT12_9', 'x_STATE_45', 'x_RFDRHV8_2', 'PERSDOC3_3', 'DIABETE4_3', 'COVIDPO1_9', 'x_STATE_8', 'PERSDOC3_7', 'CHECKUP1_3', 'EXRACT12_77', 'x_STATE_38', 'x_STATE_20', 'DIFFWALK_2', 'PVTRESD3_2', 'USENOW3_2', 'x_PHYS14D_9', 'CPDEMO1C_9', 'x_STATE_41', 'CHECKUP1_7', 'x_CHLDCNT_4', 'x_STATE_25', 'COVIDPO1_7', 'CPDEMO1C_6', 'x_STATE_48', 'EXRACT12_4', 'MEDCOST1_7', 'CHECKUP1_8', 'PNEUVAC4_2', 'EXRACT12_5', 'x_STATE_29', 'CHECKUP1_4', 'ADDEPEV3_9', 'x_STATE_49', 'x_STATE_27', 'x_STATE_30', 'x_STATE_19']\n"
     ]
    }
   ],
   "source": [
    "# Print selected features\n",
    "print(\"Selected Features:\")\n",
    "print(selected_features)"
   ]
  },
  {
   "cell_type": "code",
   "execution_count": 135,
   "metadata": {},
   "outputs": [
    {
     "name": "stdout",
     "output_type": "stream",
     "text": [
      "\n",
      "Final Model Summary:\n",
      "                            OLS Regression Results                            \n",
      "==============================================================================\n",
      "Dep. Variable:               MENTHLTH   R-squared:                       0.298\n",
      "Model:                            OLS   Adj. R-squared:                  0.298\n",
      "Method:                 Least Squares   F-statistic:                     924.5\n",
      "Date:                Fri, 20 Dec 2024   Prob (F-statistic):               0.00\n",
      "Time:                        13:49:30   Log-Likelihood:            -4.7477e+05\n",
      "No. Observations:              145648   AIC:                         9.497e+05\n",
      "Df Residuals:                  145580   BIC:                         9.503e+05\n",
      "Df Model:                          67                                         \n",
      "Covariance Type:            nonrobust                                         \n",
      "===============================================================================\n",
      "                  coef    std err          t      P>|t|      [0.025      0.975]\n",
      "-------------------------------------------------------------------------------\n",
      "const          14.1739      0.175     80.803      0.000      13.830      14.518\n",
      "MEDCOST1_2     -2.5197      0.066    -38.189      0.000      -2.649      -2.390\n",
      "RENTHOM1_2      0.6900      0.045     15.243      0.000       0.601       0.779\n",
      "ADDEPEV3_2     -4.9528      0.045   -110.932      0.000      -5.040      -4.865\n",
      "x_PHYS14D_3     0.4802      0.169      2.849      0.004       0.150       0.811\n",
      "DECIDE_2       -5.0250      0.064    -78.301      0.000      -5.151      -4.899\n",
      "PHYSHLTH        0.1567      0.007     23.346      0.000       0.144       0.170\n",
      "DIFFALON_2     -2.9074      0.093    -31.312      0.000      -3.089      -2.725\n",
      "CHOLMED3_2      0.4649      0.042     11.153      0.000       0.383       0.547\n",
      "MARITAL_5       1.2918      0.054     24.088      0.000       1.187       1.397\n",
      "x_RFBING6_2     0.4905      0.051      9.625      0.000       0.391       0.590\n",
      "x_PHYS14D_2     0.6146      0.046     13.311      0.000       0.524       0.705\n",
      "MARITAL_6       1.0092      0.082     12.305      0.000       0.848       1.170\n",
      "x_CHLDCNT_3     0.7190      0.057     12.699      0.000       0.608       0.830\n",
      "x_CHLDCNT_2     0.6222      0.053     11.654      0.000       0.518       0.727\n",
      "RENTHOM1_3      0.7238      0.092      7.904      0.000       0.544       0.903\n",
      "x_RFDRHV8_2     0.7402      0.074     10.067      0.000       0.596       0.884\n",
      "DIFFWALK_2      0.5507      0.067      8.226      0.000       0.419       0.682\n",
      "MARITAL_4       1.2016      0.130      9.212      0.000       0.946       1.457\n",
      "FLUSHOT7_2      0.1653      0.035      4.672      0.000       0.096       0.235\n",
      "DECIDE_7       -2.4026      0.309     -7.766      0.000      -3.009      -1.796\n",
      "CHCSCNC1_2      0.3349      0.062      5.393      0.000       0.213       0.457\n",
      "x_CHLDCNT_5     1.0184      0.139      7.321      0.000       0.746       1.291\n",
      "x_CHLDCNT_4     0.5615      0.086      6.559      0.000       0.394       0.729\n",
      "MARITAL_2       0.4601      0.054      8.542      0.000       0.354       0.566\n",
      "CHECKUP1_3      0.6260      0.079      7.947      0.000       0.472       0.780\n",
      "COVIDPO1_2     -0.2213      0.034     -6.516      0.000      -0.288      -0.155\n",
      "CHECKUP1_4      0.7169      0.096      7.457      0.000       0.528       0.905\n",
      "PNEUVAC4_7      0.4552      0.066      6.941      0.000       0.327       0.584\n",
      "PNEUVAC4_2      0.2086      0.039      5.336      0.000       0.132       0.285\n",
      "DECIDE_9       -3.3861      0.761     -4.449      0.000      -4.878      -1.894\n",
      "ADDEPEV3_7     -1.5114      0.331     -4.560      0.000      -2.161      -0.862\n",
      "MARITAL_3       0.3474      0.071      4.863      0.000       0.207       0.487\n",
      "PVTRESD3_2      1.4617      0.324      4.505      0.000       0.826       2.098\n",
      "x_CHLDCNT_6     0.8639      0.203      4.258      0.000       0.466       1.262\n",
      "CHECKUP1_2      0.2502      0.058      4.345      0.000       0.137       0.363\n",
      "x_METSTAT_2    -0.1451      0.040     -3.663      0.000      -0.223      -0.067\n",
      "x_STATE_27     -0.3679      0.085     -4.345      0.000      -0.534      -0.202\n",
      "PERSDOC3_2      0.1547      0.036      4.289      0.000       0.084       0.225\n",
      "CHCKDNY2_2      0.4080      0.094      4.357      0.000       0.224       0.592\n",
      "x_STATE_38     -0.5527      0.144     -3.836      0.000      -0.835      -0.270\n",
      "MARITAL_9       1.0087      0.273      3.691      0.000       0.473       1.544\n",
      "EXRACT12_11    -0.2084      0.048     -4.314      0.000      -0.303      -0.114\n",
      "x_STATE_11     -0.6418      0.186     -3.457      0.001      -1.006      -0.278\n",
      "MEDCOST1_7     -1.4883      0.450     -3.306      0.001      -2.371      -0.606\n",
      "DIABETE4_2      0.5920      0.186      3.186      0.001       0.228       0.956\n",
      "x_STATE_46     -0.4631      0.142     -3.259      0.001      -0.742      -0.185\n",
      "VETERAN3_2      0.1452      0.052      2.804      0.005       0.044       0.247\n",
      "DIFFALON_7     -1.6786      0.584     -2.873      0.004      -2.824      -0.533\n",
      "EXRACT12_4     -0.2523      0.079     -3.186      0.001      -0.408      -0.097\n",
      "CPDEMO1C_3      0.6330      0.228      2.775      0.006       0.186       1.080\n",
      "EXRACT12_2     -0.2073      0.070     -2.970      0.003      -0.344      -0.071\n",
      "x_STATE_4      -0.2480      0.096     -2.578      0.010      -0.436      -0.059\n",
      "ADDEPEV3_9     -2.2713      0.896     -2.535      0.011      -4.027      -0.516\n",
      "CHCOCNC1_2      0.1455      0.057      2.570      0.010       0.035       0.256\n",
      "CHCCOPD3_2     -0.1944      0.077     -2.521      0.012      -0.346      -0.043\n",
      "USENOW3_9      -2.6531      1.082     -2.453      0.014      -4.773      -0.533\n",
      "EXRACT12_3     -0.1626      0.065     -2.516      0.012      -0.289      -0.036\n",
      "EXRACT12_5     -0.3442      0.143     -2.409      0.016      -0.624      -0.064\n",
      "x_STATE_54      0.4116      0.176      2.340      0.019       0.067       0.756\n",
      "DIFFALON_9     -2.9870      1.296     -2.304      0.021      -5.528      -0.446\n",
      "CHCKDNY2_7      0.8291      0.380      2.183      0.029       0.085       1.574\n",
      "x_STATE_19      0.2343      0.113      2.073      0.038       0.013       0.456\n",
      "EXRACT12_77    -0.6363      0.302     -2.104      0.035      -1.229      -0.043\n",
      "x_STATE_45     -0.2355      0.115     -2.044      0.041      -0.461      -0.010\n",
      "x_STATE_56     -0.3678      0.183     -2.005      0.045      -0.727      -0.008\n",
      "CPDEMO1C_4      0.7090      0.357      1.989      0.047       0.010       1.408\n",
      "CHCSCNC1_9      4.1462      2.105      1.970      0.049       0.021       8.271\n",
      "==============================================================================\n",
      "Omnibus:                    57205.289   Durbin-Watson:                   1.996\n",
      "Prob(Omnibus):                  0.000   Jarque-Bera (JB):           258390.139\n",
      "Skew:                           1.903   Prob(JB):                         0.00\n",
      "Kurtosis:                       8.300   Cond. No.                     1.01e+03\n",
      "==============================================================================\n",
      "\n",
      "Notes:\n",
      "[1] Standard Errors assume that the covariance matrix of the errors is correctly specified.\n",
      "[2] The condition number is large, 1.01e+03. This might indicate that there are\n",
      "strong multicollinearity or other numerical problems.\n",
      "Accuracy of the model on test set: 13.89%\n",
      "\n",
      "Mean Squared Error: 40.0224232571182\n",
      "R-squared: 0.30152345346076537\n"
     ]
    }
   ],
   "source": [
    "# Step 4: Build Final Model with Selected Features\n",
    "X_train_selected = X_train[selected_features]\n",
    "X_test_selected = X_test[selected_features]\n",
    "\n",
    "final_model = sm.OLS(y_train, sm.add_constant(X_train_selected)).fit()\n",
    "print(\"\\nFinal Model Summary:\")\n",
    "print(final_model.summary())\n",
    "\n",
    "# Step 5: Test the Model on the Test Set\n",
    "y_pred = final_model.predict(sm.add_constant(X_test_selected))\n",
    "mse = mean_squared_error(y_test, y_pred)\n",
    "r2 = r2_score(y_test, y_pred)\n",
    "accuracy = accuracy_score(y_test, y_pred.round())\n",
    "print(f\"Accuracy of the model on test set: {accuracy * 100:.2f}%\")\n",
    "print(f\"\\nMean Squared Error: {mse}\\nR-squared: {r2}\")"
   ]
  },
  {
   "cell_type": "code",
   "execution_count": 136,
   "metadata": {},
   "outputs": [
    {
     "name": "stdout",
     "output_type": "stream",
     "text": [
      "\n",
      "Top 10 Coefficients:\n",
      "const          14.173888\n",
      "CHCSCNC1_9      4.146207\n",
      "PVTRESD3_2      1.461692\n",
      "MARITAL_5       1.291814\n",
      "MARITAL_4       1.201567\n",
      "x_CHLDCNT_5     1.018364\n",
      "MARITAL_6       1.009169\n",
      "MARITAL_9       1.008658\n",
      "x_CHLDCNT_6     0.863935\n",
      "CHCKDNY2_7      0.829080\n",
      "dtype: float64\n"
     ]
    }
   ],
   "source": [
    "# Print top 10 coefficients\n",
    "print(\"\\nTop 10 Coefficients:\")\n",
    "print(final_model.params.sort_values(ascending=False).head(10))"
   ]
  },
  {
   "cell_type": "code",
   "execution_count": 142,
   "metadata": {},
   "outputs": [
    {
     "name": "stdout",
     "output_type": "stream",
     "text": [
      "Model Metrics for Different Binnings (MLR):\n",
      "   Bins       MSE Accuracy (%)\n",
      "0     2  0.184873       73.16%\n",
      "1     3  0.197644       85.34%\n",
      "2     4  0.435013       75.23%\n",
      "3     5  0.808293       67.18%\n",
      "4     6  1.115995       65.67%\n"
     ]
    }
   ],
   "source": [
    "# Define a function to bin y, train an MLR model, and compute metrics\n",
    "def run_mlr_with_bins(X, y, num_bins_list):\n",
    "    results = []  # To store model metrics\n",
    "\n",
    "    for num_bins in num_bins_list:\n",
    "        # Bin the target variable\n",
    "        if num_bins == 2:  # Special case for binary (0 vs. 1+)\n",
    "            y_binned = (y > 0).astype(int)\n",
    "        else:\n",
    "            y_binned = pd.cut(y, bins=num_bins, labels=range(num_bins), include_lowest=True).astype(int)\n",
    "\n",
    "        # Split the data into training and testing sets\n",
    "        X_train, X_test, y_train, y_test = train_test_split(X, y_binned, test_size=0.2, random_state=42)\n",
    "\n",
    "        # Train a multiple linear regression model\n",
    "        X_train = sm.add_constant(X_train)  # Add constant for intercept\n",
    "        X_test = sm.add_constant(X_test)    # Add constant for intercept\n",
    "\n",
    "        model = sm.OLS(y_train, X_train).fit()\n",
    "\n",
    "        # Test the model\n",
    "        y_pred = model.predict(X_test)\n",
    "\n",
    "        # Convert predictions to nearest integer bin\n",
    "        y_pred_binned = np.rint(y_pred).astype(int)  # Round to nearest bin and convert to integers\n",
    "\n",
    "        # Calculate performance metrics\n",
    "        mse = mean_squared_error(y_test, y_pred)\n",
    "        accuracy = accuracy_score(y_test, y_pred_binned)\n",
    "\n",
    "        # Store the results\n",
    "        results.append({\n",
    "            'Bins': num_bins,\n",
    "            'MSE': mse,\n",
    "            'Accuracy (%)': f\"{accuracy * 100:.2f}%\"\n",
    "        })\n",
    "\n",
    "    # Convert results to a DataFrame for a clean table\n",
    "    results_df = pd.DataFrame(results)\n",
    "    return results_df\n",
    "\n",
    "# Run the function on your dataset\n",
    "num_bins_list = [2, 3, 4, 5, 6]  # Define the binning segments\n",
    "X = X_final  # Predictor variables\n",
    "results_table = run_mlr_with_bins(X, y, num_bins_list)\n",
    "\n",
    "# Display the results\n",
    "print(\"Model Metrics for Different Binnings (MLR):\")\n",
    "print(results_table)\n"
   ]
  }
 ],
 "metadata": {
  "kernelspec": {
   "display_name": "Python 3",
   "language": "python",
   "name": "python3"
  },
  "language_info": {
   "codemirror_mode": {
    "name": "ipython",
    "version": 3
   },
   "file_extension": ".py",
   "mimetype": "text/x-python",
   "name": "python",
   "nbconvert_exporter": "python",
   "pygments_lexer": "ipython3",
   "version": "3.12.6"
  }
 },
 "nbformat": 4,
 "nbformat_minor": 2
}
